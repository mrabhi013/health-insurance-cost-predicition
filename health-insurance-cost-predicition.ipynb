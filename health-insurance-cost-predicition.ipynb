{
 "cells": [
  {
   "cell_type": "code",
   "execution_count": 1,
   "metadata": {
    "execution": {
     "iopub.execute_input": "2021-10-31T15:15:14.510963Z",
     "iopub.status.busy": "2021-10-31T15:15:14.509817Z",
     "iopub.status.idle": "2021-10-31T15:15:14.515174Z",
     "shell.execute_reply": "2021-10-31T15:15:14.514477Z",
     "shell.execute_reply.started": "2021-10-31T15:15:14.510908Z"
    }
   },
   "outputs": [],
   "source": [
    "import pandas as pd"
   ]
  },
  {
   "cell_type": "code",
   "execution_count": 2,
   "metadata": {
    "execution": {
     "iopub.execute_input": "2021-10-31T15:15:14.543597Z",
     "iopub.status.busy": "2021-10-31T15:15:14.542964Z",
     "iopub.status.idle": "2021-10-31T15:15:14.559735Z",
     "shell.execute_reply": "2021-10-31T15:15:14.558732Z",
     "shell.execute_reply.started": "2021-10-31T15:15:14.543545Z"
    }
   },
   "outputs": [],
   "source": [
    "data=pd.read_csv(\"insurance.csv\")\n"
   ]
  },
  {
   "cell_type": "markdown",
   "metadata": {},
   "source": [
    "### 1. Display Top 5 Rows of The Dataset"
   ]
  },
  {
   "cell_type": "code",
   "execution_count": 3,
   "metadata": {
    "execution": {
     "iopub.execute_input": "2021-10-31T15:15:14.596507Z",
     "iopub.status.busy": "2021-10-31T15:15:14.596126Z",
     "iopub.status.idle": "2021-10-31T15:15:14.61648Z",
     "shell.execute_reply": "2021-10-31T15:15:14.615499Z",
     "shell.execute_reply.started": "2021-10-31T15:15:14.596465Z"
    }
   },
   "outputs": [
    {
     "data": {
      "text/html": [
       "<div>\n",
       "<style scoped>\n",
       "    .dataframe tbody tr th:only-of-type {\n",
       "        vertical-align: middle;\n",
       "    }\n",
       "\n",
       "    .dataframe tbody tr th {\n",
       "        vertical-align: top;\n",
       "    }\n",
       "\n",
       "    .dataframe thead th {\n",
       "        text-align: right;\n",
       "    }\n",
       "</style>\n",
       "<table border=\"1\" class=\"dataframe\">\n",
       "  <thead>\n",
       "    <tr style=\"text-align: right;\">\n",
       "      <th></th>\n",
       "      <th>age</th>\n",
       "      <th>sex</th>\n",
       "      <th>bmi</th>\n",
       "      <th>children</th>\n",
       "      <th>smoker</th>\n",
       "      <th>region</th>\n",
       "      <th>charges</th>\n",
       "    </tr>\n",
       "  </thead>\n",
       "  <tbody>\n",
       "    <tr>\n",
       "      <th>0</th>\n",
       "      <td>19</td>\n",
       "      <td>female</td>\n",
       "      <td>27.900</td>\n",
       "      <td>0</td>\n",
       "      <td>yes</td>\n",
       "      <td>southwest</td>\n",
       "      <td>16884.92400</td>\n",
       "    </tr>\n",
       "    <tr>\n",
       "      <th>1</th>\n",
       "      <td>18</td>\n",
       "      <td>male</td>\n",
       "      <td>33.770</td>\n",
       "      <td>1</td>\n",
       "      <td>no</td>\n",
       "      <td>southeast</td>\n",
       "      <td>1725.55230</td>\n",
       "    </tr>\n",
       "    <tr>\n",
       "      <th>2</th>\n",
       "      <td>28</td>\n",
       "      <td>male</td>\n",
       "      <td>33.000</td>\n",
       "      <td>3</td>\n",
       "      <td>no</td>\n",
       "      <td>southeast</td>\n",
       "      <td>4449.46200</td>\n",
       "    </tr>\n",
       "    <tr>\n",
       "      <th>3</th>\n",
       "      <td>33</td>\n",
       "      <td>male</td>\n",
       "      <td>22.705</td>\n",
       "      <td>0</td>\n",
       "      <td>no</td>\n",
       "      <td>northwest</td>\n",
       "      <td>21984.47061</td>\n",
       "    </tr>\n",
       "    <tr>\n",
       "      <th>4</th>\n",
       "      <td>32</td>\n",
       "      <td>male</td>\n",
       "      <td>28.880</td>\n",
       "      <td>0</td>\n",
       "      <td>no</td>\n",
       "      <td>northwest</td>\n",
       "      <td>3866.85520</td>\n",
       "    </tr>\n",
       "  </tbody>\n",
       "</table>\n",
       "</div>"
      ],
      "text/plain": [
       "   age     sex     bmi  children smoker     region      charges\n",
       "0   19  female  27.900         0    yes  southwest  16884.92400\n",
       "1   18    male  33.770         1     no  southeast   1725.55230\n",
       "2   28    male  33.000         3     no  southeast   4449.46200\n",
       "3   33    male  22.705         0     no  northwest  21984.47061\n",
       "4   32    male  28.880         0     no  northwest   3866.85520"
      ]
     },
     "execution_count": 3,
     "metadata": {},
     "output_type": "execute_result"
    }
   ],
   "source": [
    "data.head()"
   ]
  },
  {
   "cell_type": "markdown",
   "metadata": {},
   "source": [
    "### 2. Check Last 5 Rows of The Dataset"
   ]
  },
  {
   "cell_type": "code",
   "execution_count": 4,
   "metadata": {
    "execution": {
     "iopub.execute_input": "2021-10-31T15:15:14.618253Z",
     "iopub.status.busy": "2021-10-31T15:15:14.617827Z",
     "iopub.status.idle": "2021-10-31T15:15:14.629548Z",
     "shell.execute_reply": "2021-10-31T15:15:14.62889Z",
     "shell.execute_reply.started": "2021-10-31T15:15:14.618216Z"
    }
   },
   "outputs": [
    {
     "data": {
      "text/html": [
       "<div>\n",
       "<style scoped>\n",
       "    .dataframe tbody tr th:only-of-type {\n",
       "        vertical-align: middle;\n",
       "    }\n",
       "\n",
       "    .dataframe tbody tr th {\n",
       "        vertical-align: top;\n",
       "    }\n",
       "\n",
       "    .dataframe thead th {\n",
       "        text-align: right;\n",
       "    }\n",
       "</style>\n",
       "<table border=\"1\" class=\"dataframe\">\n",
       "  <thead>\n",
       "    <tr style=\"text-align: right;\">\n",
       "      <th></th>\n",
       "      <th>age</th>\n",
       "      <th>sex</th>\n",
       "      <th>bmi</th>\n",
       "      <th>children</th>\n",
       "      <th>smoker</th>\n",
       "      <th>region</th>\n",
       "      <th>charges</th>\n",
       "    </tr>\n",
       "  </thead>\n",
       "  <tbody>\n",
       "    <tr>\n",
       "      <th>1333</th>\n",
       "      <td>50</td>\n",
       "      <td>male</td>\n",
       "      <td>30.97</td>\n",
       "      <td>3</td>\n",
       "      <td>no</td>\n",
       "      <td>northwest</td>\n",
       "      <td>10600.5483</td>\n",
       "    </tr>\n",
       "    <tr>\n",
       "      <th>1334</th>\n",
       "      <td>18</td>\n",
       "      <td>female</td>\n",
       "      <td>31.92</td>\n",
       "      <td>0</td>\n",
       "      <td>no</td>\n",
       "      <td>northeast</td>\n",
       "      <td>2205.9808</td>\n",
       "    </tr>\n",
       "    <tr>\n",
       "      <th>1335</th>\n",
       "      <td>18</td>\n",
       "      <td>female</td>\n",
       "      <td>36.85</td>\n",
       "      <td>0</td>\n",
       "      <td>no</td>\n",
       "      <td>southeast</td>\n",
       "      <td>1629.8335</td>\n",
       "    </tr>\n",
       "    <tr>\n",
       "      <th>1336</th>\n",
       "      <td>21</td>\n",
       "      <td>female</td>\n",
       "      <td>25.80</td>\n",
       "      <td>0</td>\n",
       "      <td>no</td>\n",
       "      <td>southwest</td>\n",
       "      <td>2007.9450</td>\n",
       "    </tr>\n",
       "    <tr>\n",
       "      <th>1337</th>\n",
       "      <td>61</td>\n",
       "      <td>female</td>\n",
       "      <td>29.07</td>\n",
       "      <td>0</td>\n",
       "      <td>yes</td>\n",
       "      <td>northwest</td>\n",
       "      <td>29141.3603</td>\n",
       "    </tr>\n",
       "  </tbody>\n",
       "</table>\n",
       "</div>"
      ],
      "text/plain": [
       "      age     sex    bmi  children smoker     region     charges\n",
       "1333   50    male  30.97         3     no  northwest  10600.5483\n",
       "1334   18  female  31.92         0     no  northeast   2205.9808\n",
       "1335   18  female  36.85         0     no  southeast   1629.8335\n",
       "1336   21  female  25.80         0     no  southwest   2007.9450\n",
       "1337   61  female  29.07         0    yes  northwest  29141.3603"
      ]
     },
     "execution_count": 4,
     "metadata": {},
     "output_type": "execute_result"
    }
   ],
   "source": [
    "data.tail()"
   ]
  },
  {
   "cell_type": "markdown",
   "metadata": {},
   "source": [
    "### 3. Find Shape of Our Dataset (Number of Rows And Number of Columns)"
   ]
  },
  {
   "cell_type": "code",
   "execution_count": 5,
   "metadata": {
    "execution": {
     "iopub.execute_input": "2021-10-31T15:15:14.636657Z",
     "iopub.status.busy": "2021-10-31T15:15:14.636258Z",
     "iopub.status.idle": "2021-10-31T15:15:14.643196Z",
     "shell.execute_reply": "2021-10-31T15:15:14.642363Z",
     "shell.execute_reply.started": "2021-10-31T15:15:14.636624Z"
    }
   },
   "outputs": [
    {
     "data": {
      "text/plain": [
       "(1338, 7)"
      ]
     },
     "execution_count": 5,
     "metadata": {},
     "output_type": "execute_result"
    }
   ],
   "source": [
    "data.shape"
   ]
  },
  {
   "cell_type": "code",
   "execution_count": 6,
   "metadata": {
    "execution": {
     "iopub.execute_input": "2021-10-31T15:15:14.645777Z",
     "iopub.status.busy": "2021-10-31T15:15:14.644957Z",
     "iopub.status.idle": "2021-10-31T15:15:14.654097Z",
     "shell.execute_reply": "2021-10-31T15:15:14.653226Z",
     "shell.execute_reply.started": "2021-10-31T15:15:14.645728Z"
    }
   },
   "outputs": [
    {
     "name": "stdout",
     "output_type": "stream",
     "text": [
      "Number of Rows 1338\n",
      "Number of Columns 7\n"
     ]
    }
   ],
   "source": [
    "print(\"Number of Rows\",data.shape[0])\n",
    "print(\"Number of Columns\",data.shape[1])"
   ]
  },
  {
   "cell_type": "markdown",
   "metadata": {},
   "source": [
    "### 4. Get Information About Our Dataset Like Total Number Rows, Total Number of Columns, Datatypes of Each Column And Memory Requirement"
   ]
  },
  {
   "cell_type": "code",
   "execution_count": 7,
   "metadata": {
    "execution": {
     "iopub.execute_input": "2021-10-31T15:15:14.676142Z",
     "iopub.status.busy": "2021-10-31T15:15:14.675811Z",
     "iopub.status.idle": "2021-10-31T15:15:14.695826Z",
     "shell.execute_reply": "2021-10-31T15:15:14.694835Z",
     "shell.execute_reply.started": "2021-10-31T15:15:14.676109Z"
    }
   },
   "outputs": [
    {
     "name": "stdout",
     "output_type": "stream",
     "text": [
      "<class 'pandas.core.frame.DataFrame'>\n",
      "RangeIndex: 1338 entries, 0 to 1337\n",
      "Data columns (total 7 columns):\n",
      " #   Column    Non-Null Count  Dtype  \n",
      "---  ------    --------------  -----  \n",
      " 0   age       1338 non-null   int64  \n",
      " 1   sex       1338 non-null   object \n",
      " 2   bmi       1338 non-null   float64\n",
      " 3   children  1338 non-null   int64  \n",
      " 4   smoker    1338 non-null   object \n",
      " 5   region    1338 non-null   object \n",
      " 6   charges   1338 non-null   float64\n",
      "dtypes: float64(2), int64(2), object(3)\n",
      "memory usage: 73.3+ KB\n"
     ]
    }
   ],
   "source": [
    "data.info()"
   ]
  },
  {
   "cell_type": "markdown",
   "metadata": {},
   "source": [
    "### 5.Check Null Values In The Dataset"
   ]
  },
  {
   "cell_type": "code",
   "execution_count": 8,
   "metadata": {
    "execution": {
     "iopub.execute_input": "2021-10-31T15:15:14.702664Z",
     "iopub.status.busy": "2021-10-31T15:15:14.7017Z",
     "iopub.status.idle": "2021-10-31T15:15:14.7121Z",
     "shell.execute_reply": "2021-10-31T15:15:14.711128Z",
     "shell.execute_reply.started": "2021-10-31T15:15:14.702608Z"
    }
   },
   "outputs": [
    {
     "data": {
      "text/plain": [
       "age         0\n",
       "sex         0\n",
       "bmi         0\n",
       "children    0\n",
       "smoker      0\n",
       "region      0\n",
       "charges     0\n",
       "dtype: int64"
      ]
     },
     "execution_count": 8,
     "metadata": {},
     "output_type": "execute_result"
    }
   ],
   "source": [
    "data.isnull().sum()"
   ]
  },
  {
   "cell_type": "markdown",
   "metadata": {},
   "source": [
    "### 6. Get Overall Statistics About The Dataset"
   ]
  },
  {
   "cell_type": "code",
   "execution_count": 9,
   "metadata": {
    "execution": {
     "iopub.execute_input": "2021-10-31T15:15:14.71709Z",
     "iopub.status.busy": "2021-10-31T15:15:14.71657Z",
     "iopub.status.idle": "2021-10-31T15:15:14.749259Z",
     "shell.execute_reply": "2021-10-31T15:15:14.748318Z",
     "shell.execute_reply.started": "2021-10-31T15:15:14.71705Z"
    }
   },
   "outputs": [
    {
     "data": {
      "text/html": [
       "<div>\n",
       "<style scoped>\n",
       "    .dataframe tbody tr th:only-of-type {\n",
       "        vertical-align: middle;\n",
       "    }\n",
       "\n",
       "    .dataframe tbody tr th {\n",
       "        vertical-align: top;\n",
       "    }\n",
       "\n",
       "    .dataframe thead th {\n",
       "        text-align: right;\n",
       "    }\n",
       "</style>\n",
       "<table border=\"1\" class=\"dataframe\">\n",
       "  <thead>\n",
       "    <tr style=\"text-align: right;\">\n",
       "      <th></th>\n",
       "      <th>age</th>\n",
       "      <th>sex</th>\n",
       "      <th>bmi</th>\n",
       "      <th>children</th>\n",
       "      <th>smoker</th>\n",
       "      <th>region</th>\n",
       "      <th>charges</th>\n",
       "    </tr>\n",
       "  </thead>\n",
       "  <tbody>\n",
       "    <tr>\n",
       "      <th>count</th>\n",
       "      <td>1338.000000</td>\n",
       "      <td>1338</td>\n",
       "      <td>1338.000000</td>\n",
       "      <td>1338.000000</td>\n",
       "      <td>1338</td>\n",
       "      <td>1338</td>\n",
       "      <td>1338.000000</td>\n",
       "    </tr>\n",
       "    <tr>\n",
       "      <th>unique</th>\n",
       "      <td>NaN</td>\n",
       "      <td>2</td>\n",
       "      <td>NaN</td>\n",
       "      <td>NaN</td>\n",
       "      <td>2</td>\n",
       "      <td>4</td>\n",
       "      <td>NaN</td>\n",
       "    </tr>\n",
       "    <tr>\n",
       "      <th>top</th>\n",
       "      <td>NaN</td>\n",
       "      <td>male</td>\n",
       "      <td>NaN</td>\n",
       "      <td>NaN</td>\n",
       "      <td>no</td>\n",
       "      <td>southeast</td>\n",
       "      <td>NaN</td>\n",
       "    </tr>\n",
       "    <tr>\n",
       "      <th>freq</th>\n",
       "      <td>NaN</td>\n",
       "      <td>676</td>\n",
       "      <td>NaN</td>\n",
       "      <td>NaN</td>\n",
       "      <td>1064</td>\n",
       "      <td>364</td>\n",
       "      <td>NaN</td>\n",
       "    </tr>\n",
       "    <tr>\n",
       "      <th>mean</th>\n",
       "      <td>39.207025</td>\n",
       "      <td>NaN</td>\n",
       "      <td>30.663397</td>\n",
       "      <td>1.094918</td>\n",
       "      <td>NaN</td>\n",
       "      <td>NaN</td>\n",
       "      <td>13270.422265</td>\n",
       "    </tr>\n",
       "    <tr>\n",
       "      <th>std</th>\n",
       "      <td>14.049960</td>\n",
       "      <td>NaN</td>\n",
       "      <td>6.098187</td>\n",
       "      <td>1.205493</td>\n",
       "      <td>NaN</td>\n",
       "      <td>NaN</td>\n",
       "      <td>12110.011237</td>\n",
       "    </tr>\n",
       "    <tr>\n",
       "      <th>min</th>\n",
       "      <td>18.000000</td>\n",
       "      <td>NaN</td>\n",
       "      <td>15.960000</td>\n",
       "      <td>0.000000</td>\n",
       "      <td>NaN</td>\n",
       "      <td>NaN</td>\n",
       "      <td>1121.873900</td>\n",
       "    </tr>\n",
       "    <tr>\n",
       "      <th>25%</th>\n",
       "      <td>27.000000</td>\n",
       "      <td>NaN</td>\n",
       "      <td>26.296250</td>\n",
       "      <td>0.000000</td>\n",
       "      <td>NaN</td>\n",
       "      <td>NaN</td>\n",
       "      <td>4740.287150</td>\n",
       "    </tr>\n",
       "    <tr>\n",
       "      <th>50%</th>\n",
       "      <td>39.000000</td>\n",
       "      <td>NaN</td>\n",
       "      <td>30.400000</td>\n",
       "      <td>1.000000</td>\n",
       "      <td>NaN</td>\n",
       "      <td>NaN</td>\n",
       "      <td>9382.033000</td>\n",
       "    </tr>\n",
       "    <tr>\n",
       "      <th>75%</th>\n",
       "      <td>51.000000</td>\n",
       "      <td>NaN</td>\n",
       "      <td>34.693750</td>\n",
       "      <td>2.000000</td>\n",
       "      <td>NaN</td>\n",
       "      <td>NaN</td>\n",
       "      <td>16639.912515</td>\n",
       "    </tr>\n",
       "    <tr>\n",
       "      <th>max</th>\n",
       "      <td>64.000000</td>\n",
       "      <td>NaN</td>\n",
       "      <td>53.130000</td>\n",
       "      <td>5.000000</td>\n",
       "      <td>NaN</td>\n",
       "      <td>NaN</td>\n",
       "      <td>63770.428010</td>\n",
       "    </tr>\n",
       "  </tbody>\n",
       "</table>\n",
       "</div>"
      ],
      "text/plain": [
       "                age   sex          bmi     children smoker     region  \\\n",
       "count   1338.000000  1338  1338.000000  1338.000000   1338       1338   \n",
       "unique          NaN     2          NaN          NaN      2          4   \n",
       "top             NaN  male          NaN          NaN     no  southeast   \n",
       "freq            NaN   676          NaN          NaN   1064        364   \n",
       "mean      39.207025   NaN    30.663397     1.094918    NaN        NaN   \n",
       "std       14.049960   NaN     6.098187     1.205493    NaN        NaN   \n",
       "min       18.000000   NaN    15.960000     0.000000    NaN        NaN   \n",
       "25%       27.000000   NaN    26.296250     0.000000    NaN        NaN   \n",
       "50%       39.000000   NaN    30.400000     1.000000    NaN        NaN   \n",
       "75%       51.000000   NaN    34.693750     2.000000    NaN        NaN   \n",
       "max       64.000000   NaN    53.130000     5.000000    NaN        NaN   \n",
       "\n",
       "             charges  \n",
       "count    1338.000000  \n",
       "unique           NaN  \n",
       "top              NaN  \n",
       "freq             NaN  \n",
       "mean    13270.422265  \n",
       "std     12110.011237  \n",
       "min      1121.873900  \n",
       "25%      4740.287150  \n",
       "50%      9382.033000  \n",
       "75%     16639.912515  \n",
       "max     63770.428010  "
      ]
     },
     "execution_count": 9,
     "metadata": {},
     "output_type": "execute_result"
    }
   ],
   "source": [
    "data.describe(include='all')"
   ]
  },
  {
   "cell_type": "markdown",
   "metadata": {},
   "source": [
    "### 7. Covert Columns From String ['sex' ,'smoker','region' ] To Numerical Values "
   ]
  },
  {
   "cell_type": "code",
   "execution_count": 10,
   "metadata": {
    "execution": {
     "iopub.execute_input": "2021-10-31T15:15:14.751447Z",
     "iopub.status.busy": "2021-10-31T15:15:14.751163Z",
     "iopub.status.idle": "2021-10-31T15:15:14.763103Z",
     "shell.execute_reply": "2021-10-31T15:15:14.761919Z",
     "shell.execute_reply.started": "2021-10-31T15:15:14.751392Z"
    }
   },
   "outputs": [],
   "source": [
    "data['sex'].unique()\n",
    "data['sex']=data['sex'].map({'female':0,'male':1})\n",
    "data['smoker']=data['smoker'].map({'yes':1,'no':0})\n",
    "data['region']=data['region'].map({'southwest':1,'southeast':2,\n",
    "                   'northwest':3,'northeast':4})"
   ]
  },
  {
   "cell_type": "code",
   "execution_count": 11,
   "metadata": {
    "execution": {
     "iopub.execute_input": "2021-10-31T15:15:14.76509Z",
     "iopub.status.busy": "2021-10-31T15:15:14.764723Z",
     "iopub.status.idle": "2021-10-31T15:15:14.78348Z",
     "shell.execute_reply": "2021-10-31T15:15:14.782554Z",
     "shell.execute_reply.started": "2021-10-31T15:15:14.765045Z"
    }
   },
   "outputs": [
    {
     "data": {
      "text/html": [
       "<div>\n",
       "<style scoped>\n",
       "    .dataframe tbody tr th:only-of-type {\n",
       "        vertical-align: middle;\n",
       "    }\n",
       "\n",
       "    .dataframe tbody tr th {\n",
       "        vertical-align: top;\n",
       "    }\n",
       "\n",
       "    .dataframe thead th {\n",
       "        text-align: right;\n",
       "    }\n",
       "</style>\n",
       "<table border=\"1\" class=\"dataframe\">\n",
       "  <thead>\n",
       "    <tr style=\"text-align: right;\">\n",
       "      <th></th>\n",
       "      <th>age</th>\n",
       "      <th>sex</th>\n",
       "      <th>bmi</th>\n",
       "      <th>children</th>\n",
       "      <th>smoker</th>\n",
       "      <th>region</th>\n",
       "      <th>charges</th>\n",
       "    </tr>\n",
       "  </thead>\n",
       "  <tbody>\n",
       "    <tr>\n",
       "      <th>0</th>\n",
       "      <td>19</td>\n",
       "      <td>0</td>\n",
       "      <td>27.900</td>\n",
       "      <td>0</td>\n",
       "      <td>1</td>\n",
       "      <td>1</td>\n",
       "      <td>16884.92400</td>\n",
       "    </tr>\n",
       "    <tr>\n",
       "      <th>1</th>\n",
       "      <td>18</td>\n",
       "      <td>1</td>\n",
       "      <td>33.770</td>\n",
       "      <td>1</td>\n",
       "      <td>0</td>\n",
       "      <td>2</td>\n",
       "      <td>1725.55230</td>\n",
       "    </tr>\n",
       "    <tr>\n",
       "      <th>2</th>\n",
       "      <td>28</td>\n",
       "      <td>1</td>\n",
       "      <td>33.000</td>\n",
       "      <td>3</td>\n",
       "      <td>0</td>\n",
       "      <td>2</td>\n",
       "      <td>4449.46200</td>\n",
       "    </tr>\n",
       "    <tr>\n",
       "      <th>3</th>\n",
       "      <td>33</td>\n",
       "      <td>1</td>\n",
       "      <td>22.705</td>\n",
       "      <td>0</td>\n",
       "      <td>0</td>\n",
       "      <td>3</td>\n",
       "      <td>21984.47061</td>\n",
       "    </tr>\n",
       "    <tr>\n",
       "      <th>4</th>\n",
       "      <td>32</td>\n",
       "      <td>1</td>\n",
       "      <td>28.880</td>\n",
       "      <td>0</td>\n",
       "      <td>0</td>\n",
       "      <td>3</td>\n",
       "      <td>3866.85520</td>\n",
       "    </tr>\n",
       "  </tbody>\n",
       "</table>\n",
       "</div>"
      ],
      "text/plain": [
       "   age  sex     bmi  children  smoker  region      charges\n",
       "0   19    0  27.900         0       1       1  16884.92400\n",
       "1   18    1  33.770         1       0       2   1725.55230\n",
       "2   28    1  33.000         3       0       2   4449.46200\n",
       "3   33    1  22.705         0       0       3  21984.47061\n",
       "4   32    1  28.880         0       0       3   3866.85520"
      ]
     },
     "execution_count": 11,
     "metadata": {},
     "output_type": "execute_result"
    }
   ],
   "source": [
    "data.head()"
   ]
  },
  {
   "cell_type": "markdown",
   "metadata": {},
   "source": [
    "### 8. Store Feature Matrix In X and Response(Target) In Vector y"
   ]
  },
  {
   "cell_type": "code",
   "execution_count": 12,
   "metadata": {
    "execution": {
     "iopub.execute_input": "2021-10-31T15:15:14.785931Z",
     "iopub.status.busy": "2021-10-31T15:15:14.785207Z",
     "iopub.status.idle": "2021-10-31T15:15:14.799097Z",
     "shell.execute_reply": "2021-10-31T15:15:14.798284Z",
     "shell.execute_reply.started": "2021-10-31T15:15:14.785872Z"
    }
   },
   "outputs": [],
   "source": [
    "X = data.drop(['charges'],axis=1)\n",
    "y = data['charges']"
   ]
  },
  {
   "cell_type": "markdown",
   "metadata": {},
   "source": [
    "### 9. Train/Test split\n",
    "#### 1. Split data into two part : a training set and a testing set\n",
    "#### 2. Train the model(s) on training set\n",
    "#### 3. Test the Model(s) on Testing set"
   ]
  },
  {
   "cell_type": "code",
   "execution_count": 13,
   "metadata": {
    "execution": {
     "iopub.execute_input": "2021-10-31T15:15:14.801171Z",
     "iopub.status.busy": "2021-10-31T15:15:14.800512Z",
     "iopub.status.idle": "2021-10-31T15:15:15.163006Z",
     "shell.execute_reply": "2021-10-31T15:15:15.162035Z",
     "shell.execute_reply.started": "2021-10-31T15:15:14.801132Z"
    }
   },
   "outputs": [],
   "source": [
    "from sklearn.model_selection import train_test_split\n",
    "X_train,X_test,y_train,y_test=train_test_split(X,y,test_size=0.2,random_state=42)"
   ]
  },
  {
   "cell_type": "markdown",
   "metadata": {},
   "source": [
    "### 10. Import the models"
   ]
  },
  {
   "cell_type": "code",
   "execution_count": 14,
   "metadata": {
    "execution": {
     "iopub.execute_input": "2021-10-31T15:15:15.165273Z",
     "iopub.status.busy": "2021-10-31T15:15:15.164986Z",
     "iopub.status.idle": "2021-10-31T15:15:15.408859Z",
     "shell.execute_reply": "2021-10-31T15:15:15.407774Z",
     "shell.execute_reply.started": "2021-10-31T15:15:15.165236Z"
    }
   },
   "outputs": [],
   "source": [
    "from sklearn.linear_model import LinearRegression\n",
    "from sklearn.svm import SVR\n",
    "from sklearn.ensemble import RandomForestRegressor\n",
    "from sklearn.ensemble import GradientBoostingRegressor"
   ]
  },
  {
   "cell_type": "markdown",
   "metadata": {},
   "source": [
    "### 11. Model Training"
   ]
  },
  {
   "cell_type": "code",
   "execution_count": 15,
   "metadata": {
    "execution": {
     "iopub.execute_input": "2021-10-31T15:15:15.410706Z",
     "iopub.status.busy": "2021-10-31T15:15:15.410387Z",
     "iopub.status.idle": "2021-10-31T15:15:15.934347Z",
     "shell.execute_reply": "2021-10-31T15:15:15.933301Z",
     "shell.execute_reply.started": "2021-10-31T15:15:15.410667Z"
    }
   },
   "outputs": [
    {
     "data": {
      "text/plain": [
       "GradientBoostingRegressor()"
      ]
     },
     "execution_count": 15,
     "metadata": {},
     "output_type": "execute_result"
    }
   ],
   "source": [
    "lr = LinearRegression()\n",
    "lr.fit(X_train,y_train)\n",
    "svm = SVR()\n",
    "svm.fit(X_train,y_train)\n",
    "rf = RandomForestRegressor()\n",
    "rf.fit(X_train,y_train)\n",
    "gr = GradientBoostingRegressor()\n",
    "gr.fit(X_train,y_train)"
   ]
  },
  {
   "cell_type": "markdown",
   "metadata": {},
   "source": [
    "### 12. Prediction on Test Data"
   ]
  },
  {
   "cell_type": "code",
   "execution_count": 16,
   "metadata": {
    "execution": {
     "iopub.execute_input": "2021-10-31T15:15:15.937525Z",
     "iopub.status.busy": "2021-10-31T15:15:15.937121Z",
     "iopub.status.idle": "2021-10-31T15:15:15.976192Z",
     "shell.execute_reply": "2021-10-31T15:15:15.975385Z",
     "shell.execute_reply.started": "2021-10-31T15:15:15.937476Z"
    }
   },
   "outputs": [],
   "source": [
    "y_pred1 = lr.predict(X_test)\n",
    "y_pred2 = svm.predict(X_test)\n",
    "y_pred3 = rf.predict(X_test)\n",
    "y_pred4 = gr.predict(X_test)\n",
    "\n",
    "df1 = pd.DataFrame({'Actual':y_test,'Lr':y_pred1,\n",
    "                  'svm':y_pred2,'rf':y_pred3,'gr':y_pred4})"
   ]
  },
  {
   "cell_type": "code",
   "execution_count": 17,
   "metadata": {
    "execution": {
     "iopub.execute_input": "2021-10-31T15:15:15.977905Z",
     "iopub.status.busy": "2021-10-31T15:15:15.977579Z",
     "iopub.status.idle": "2021-10-31T15:15:15.993448Z",
     "shell.execute_reply": "2021-10-31T15:15:15.992574Z",
     "shell.execute_reply.started": "2021-10-31T15:15:15.97786Z"
    }
   },
   "outputs": [
    {
     "data": {
      "text/html": [
       "<div>\n",
       "<style scoped>\n",
       "    .dataframe tbody tr th:only-of-type {\n",
       "        vertical-align: middle;\n",
       "    }\n",
       "\n",
       "    .dataframe tbody tr th {\n",
       "        vertical-align: top;\n",
       "    }\n",
       "\n",
       "    .dataframe thead th {\n",
       "        text-align: right;\n",
       "    }\n",
       "</style>\n",
       "<table border=\"1\" class=\"dataframe\">\n",
       "  <thead>\n",
       "    <tr style=\"text-align: right;\">\n",
       "      <th></th>\n",
       "      <th>Actual</th>\n",
       "      <th>Lr</th>\n",
       "      <th>svm</th>\n",
       "      <th>rf</th>\n",
       "      <th>gr</th>\n",
       "    </tr>\n",
       "  </thead>\n",
       "  <tbody>\n",
       "    <tr>\n",
       "      <th>764</th>\n",
       "      <td>9095.06825</td>\n",
       "      <td>8924.407244</td>\n",
       "      <td>9548.261584</td>\n",
       "      <td>12346.990434</td>\n",
       "      <td>11001.128629</td>\n",
       "    </tr>\n",
       "    <tr>\n",
       "      <th>887</th>\n",
       "      <td>5272.17580</td>\n",
       "      <td>7116.295018</td>\n",
       "      <td>9492.515425</td>\n",
       "      <td>5156.583958</td>\n",
       "      <td>5840.174656</td>\n",
       "    </tr>\n",
       "    <tr>\n",
       "      <th>890</th>\n",
       "      <td>29330.98315</td>\n",
       "      <td>36909.013521</td>\n",
       "      <td>9648.758701</td>\n",
       "      <td>28020.909841</td>\n",
       "      <td>28001.980112</td>\n",
       "    </tr>\n",
       "    <tr>\n",
       "      <th>1293</th>\n",
       "      <td>9301.89355</td>\n",
       "      <td>9507.874691</td>\n",
       "      <td>9555.044136</td>\n",
       "      <td>10531.117802</td>\n",
       "      <td>9745.291602</td>\n",
       "    </tr>\n",
       "    <tr>\n",
       "      <th>259</th>\n",
       "      <td>33750.29180</td>\n",
       "      <td>27013.350008</td>\n",
       "      <td>9420.421978</td>\n",
       "      <td>34539.049826</td>\n",
       "      <td>33639.100981</td>\n",
       "    </tr>\n",
       "    <tr>\n",
       "      <th>...</th>\n",
       "      <td>...</td>\n",
       "      <td>...</td>\n",
       "      <td>...</td>\n",
       "      <td>...</td>\n",
       "      <td>...</td>\n",
       "    </tr>\n",
       "    <tr>\n",
       "      <th>109</th>\n",
       "      <td>47055.53210</td>\n",
       "      <td>39116.968669</td>\n",
       "      <td>9648.902852</td>\n",
       "      <td>47143.510130</td>\n",
       "      <td>45431.423211</td>\n",
       "    </tr>\n",
       "    <tr>\n",
       "      <th>575</th>\n",
       "      <td>12222.89830</td>\n",
       "      <td>11814.555568</td>\n",
       "      <td>9625.431547</td>\n",
       "      <td>13055.443834</td>\n",
       "      <td>12465.025294</td>\n",
       "    </tr>\n",
       "    <tr>\n",
       "      <th>535</th>\n",
       "      <td>6067.12675</td>\n",
       "      <td>7638.107736</td>\n",
       "      <td>9504.168517</td>\n",
       "      <td>6394.818900</td>\n",
       "      <td>6974.336525</td>\n",
       "    </tr>\n",
       "    <tr>\n",
       "      <th>543</th>\n",
       "      <td>63770.42801</td>\n",
       "      <td>40959.081722</td>\n",
       "      <td>9605.004594</td>\n",
       "      <td>46627.473420</td>\n",
       "      <td>47862.047791</td>\n",
       "    </tr>\n",
       "    <tr>\n",
       "      <th>846</th>\n",
       "      <td>9872.70100</td>\n",
       "      <td>12258.228529</td>\n",
       "      <td>9590.987268</td>\n",
       "      <td>9705.305091</td>\n",
       "      <td>10289.655388</td>\n",
       "    </tr>\n",
       "  </tbody>\n",
       "</table>\n",
       "<p>268 rows × 5 columns</p>\n",
       "</div>"
      ],
      "text/plain": [
       "           Actual            Lr          svm            rf            gr\n",
       "764    9095.06825   8924.407244  9548.261584  12346.990434  11001.128629\n",
       "887    5272.17580   7116.295018  9492.515425   5156.583958   5840.174656\n",
       "890   29330.98315  36909.013521  9648.758701  28020.909841  28001.980112\n",
       "1293   9301.89355   9507.874691  9555.044136  10531.117802   9745.291602\n",
       "259   33750.29180  27013.350008  9420.421978  34539.049826  33639.100981\n",
       "...           ...           ...          ...           ...           ...\n",
       "109   47055.53210  39116.968669  9648.902852  47143.510130  45431.423211\n",
       "575   12222.89830  11814.555568  9625.431547  13055.443834  12465.025294\n",
       "535    6067.12675   7638.107736  9504.168517   6394.818900   6974.336525\n",
       "543   63770.42801  40959.081722  9605.004594  46627.473420  47862.047791\n",
       "846    9872.70100  12258.228529  9590.987268   9705.305091  10289.655388\n",
       "\n",
       "[268 rows x 5 columns]"
      ]
     },
     "execution_count": 17,
     "metadata": {},
     "output_type": "execute_result"
    }
   ],
   "source": [
    "df1"
   ]
  },
  {
   "cell_type": "markdown",
   "metadata": {},
   "source": [
    "### 13. Compare Performance Visually "
   ]
  },
  {
   "cell_type": "code",
   "execution_count": 18,
   "metadata": {
    "execution": {
     "iopub.execute_input": "2021-10-31T15:15:15.99503Z",
     "iopub.status.busy": "2021-10-31T15:15:15.994732Z",
     "iopub.status.idle": "2021-10-31T15:15:16.004387Z",
     "shell.execute_reply": "2021-10-31T15:15:16.003506Z",
     "shell.execute_reply.started": "2021-10-31T15:15:15.994998Z"
    }
   },
   "outputs": [],
   "source": [
    "import matplotlib.pyplot as plt"
   ]
  },
  {
   "cell_type": "code",
   "execution_count": 19,
   "metadata": {
    "execution": {
     "iopub.execute_input": "2021-10-31T15:15:16.006601Z",
     "iopub.status.busy": "2021-10-31T15:15:16.005736Z",
     "iopub.status.idle": "2021-10-31T15:15:16.624369Z",
     "shell.execute_reply": "2021-10-31T15:15:16.623594Z",
     "shell.execute_reply.started": "2021-10-31T15:15:16.006557Z"
    }
   },
   "outputs": [
    {
     "data": {
      "text/plain": [
       "<matplotlib.legend.Legend at 0x18873326c20>"
      ]
     },
     "execution_count": 19,
     "metadata": {},
     "output_type": "execute_result"
    },
    {
     "data": {
      "image/png": "[encoded data removed]",
      "text/plain": [
       "<Figure size 432x288 with 4 Axes>"
      ]
     },
     "metadata": {
      "needs_background": "light"
     },
     "output_type": "display_data"
    }
   ],
   "source": [
    "plt.subplot(221)\n",
    "plt.plot(df1['Actual'].iloc[0:11],label='Actual')\n",
    "plt.plot(df1['Lr'].iloc[0:11],label=\"Lr\")\n",
    "plt.legend()\n",
    "\n",
    "plt.subplot(222)\n",
    "plt.plot(df1['Actual'].iloc[0:11],label='Actual')\n",
    "plt.plot(df1['svm'].iloc[0:11],label=\"svr\")\n",
    "plt.legend()\n",
    "\n",
    "plt.subplot(223)\n",
    "plt.plot(df1['Actual'].iloc[0:11],label='Actual')\n",
    "plt.plot(df1['rf'].iloc[0:11],label=\"rf\")\n",
    "plt.legend()\n",
    "\n",
    "plt.subplot(224)\n",
    "plt.plot(df1['Actual'].iloc[0:11],label='Actual')\n",
    "plt.plot(df1['gr'].iloc[0:11],label=\"gr\")\n",
    "\n",
    "plt.tight_layout()\n",
    "\n",
    "plt.legend()"
   ]
  },
  {
   "cell_type": "markdown",
   "metadata": {},
   "source": [
    "### 14. Evaluating the Algorithm"
   ]
  },
  {
   "cell_type": "code",
   "execution_count": 20,
   "metadata": {
    "execution": {
     "iopub.execute_input": "2021-10-31T15:15:16.626457Z",
     "iopub.status.busy": "2021-10-31T15:15:16.625598Z",
     "iopub.status.idle": "2021-10-31T15:15:16.63134Z",
     "shell.execute_reply": "2021-10-31T15:15:16.630369Z",
     "shell.execute_reply.started": "2021-10-31T15:15:16.626391Z"
    }
   },
   "outputs": [],
   "source": [
    "from sklearn import metrics"
   ]
  },
  {
   "cell_type": "code",
   "execution_count": 21,
   "metadata": {
    "execution": {
     "iopub.execute_input": "2021-10-31T15:15:16.633458Z",
     "iopub.status.busy": "2021-10-31T15:15:16.632754Z",
     "iopub.status.idle": "2021-10-31T15:15:16.647107Z",
     "shell.execute_reply": "2021-10-31T15:15:16.646386Z",
     "shell.execute_reply.started": "2021-10-31T15:15:16.633388Z"
    }
   },
   "outputs": [],
   "source": [
    "score1 = metrics.r2_score(y_test,y_pred1)\n",
    "score2 = metrics.r2_score(y_test,y_pred2)\n",
    "score3 = metrics.r2_score(y_test,y_pred3)\n",
    "score4 = metrics.r2_score(y_test,y_pred4)"
   ]
  },
  {
   "cell_type": "code",
   "execution_count": 22,
   "metadata": {
    "execution": {
     "iopub.execute_input": "2021-10-31T15:15:16.650503Z",
     "iopub.status.busy": "2021-10-31T15:15:16.649767Z",
     "iopub.status.idle": "2021-10-31T15:15:16.656244Z",
     "shell.execute_reply": "2021-10-31T15:15:16.655492Z",
     "shell.execute_reply.started": "2021-10-31T15:15:16.650456Z"
    }
   },
   "outputs": [
    {
     "name": "stdout",
     "output_type": "stream",
     "text": [
      "0.7833463107364539 -0.07229762787861826 0.8668466210489068 0.8779726251291786\n"
     ]
    }
   ],
   "source": [
    "print(score1,score2,score3,score4)"
   ]
  },
  {
   "cell_type": "code",
   "execution_count": 23,
   "metadata": {
    "execution": {
     "iopub.execute_input": "2021-10-31T15:15:16.658142Z",
     "iopub.status.busy": "2021-10-31T15:15:16.657654Z",
     "iopub.status.idle": "2021-10-31T15:15:16.670155Z",
     "shell.execute_reply": "2021-10-31T15:15:16.669264Z",
     "shell.execute_reply.started": "2021-10-31T15:15:16.658106Z"
    }
   },
   "outputs": [],
   "source": [
    "s1 = metrics.mean_absolute_error(y_test,y_pred1)\n",
    "s2 = metrics.mean_absolute_error(y_test,y_pred2)\n",
    "s3 = metrics.mean_absolute_error(y_test,y_pred3)\n",
    "s4 = metrics.mean_absolute_error(y_test,y_pred4)"
   ]
  },
  {
   "cell_type": "code",
   "execution_count": 24,
   "metadata": {
    "execution": {
     "iopub.execute_input": "2021-10-31T15:15:16.672369Z",
     "iopub.status.busy": "2021-10-31T15:15:16.671483Z",
     "iopub.status.idle": "2021-10-31T15:15:16.680079Z",
     "shell.execute_reply": "2021-10-31T15:15:16.679144Z",
     "shell.execute_reply.started": "2021-10-31T15:15:16.672327Z"
    }
   },
   "outputs": [
    {
     "name": "stdout",
     "output_type": "stream",
     "text": [
      "4186.508898366432 8592.428727899724 2498.001806256904 2447.9515580545844\n"
     ]
    }
   ],
   "source": [
    "print(s1,s2,s3,s4)"
   ]
  },
  {
   "cell_type": "markdown",
   "metadata": {},
   "source": [
    "### 15. Predict Charges For New Customer"
   ]
  },
  {
   "cell_type": "code",
   "execution_count": 25,
   "metadata": {
    "execution": {
     "iopub.execute_input": "2021-10-31T15:15:16.681959Z",
     "iopub.status.busy": "2021-10-31T15:15:16.681347Z",
     "iopub.status.idle": "2021-10-31T15:15:16.69194Z",
     "shell.execute_reply": "2021-10-31T15:15:16.691271Z",
     "shell.execute_reply.started": "2021-10-31T15:15:16.681923Z"
    }
   },
   "outputs": [],
   "source": [
    "data = {'age' : 40,\n",
    "        'sex' : 1,\n",
    "        'bmi' : 40.30,\n",
    "        'children' : 4,\n",
    "        'smoker' : 1,\n",
    "        'region' : 2}"
   ]
  },
  {
   "cell_type": "code",
   "execution_count": 26,
   "metadata": {
    "execution": {
     "iopub.execute_input": "2021-10-31T15:15:16.69367Z",
     "iopub.status.busy": "2021-10-31T15:15:16.693271Z",
     "iopub.status.idle": "2021-10-31T15:15:16.714529Z",
     "shell.execute_reply": "2021-10-31T15:15:16.713725Z",
     "shell.execute_reply.started": "2021-10-31T15:15:16.693636Z"
    }
   },
   "outputs": [
    {
     "data": {
      "text/html": [
       "<div>\n",
       "<style scoped>\n",
       "    .dataframe tbody tr th:only-of-type {\n",
       "        vertical-align: middle;\n",
       "    }\n",
       "\n",
       "    .dataframe tbody tr th {\n",
       "        vertical-align: top;\n",
       "    }\n",
       "\n",
       "    .dataframe thead th {\n",
       "        text-align: right;\n",
       "    }\n",
       "</style>\n",
       "<table border=\"1\" class=\"dataframe\">\n",
       "  <thead>\n",
       "    <tr style=\"text-align: right;\">\n",
       "      <th></th>\n",
       "      <th>age</th>\n",
       "      <th>sex</th>\n",
       "      <th>bmi</th>\n",
       "      <th>children</th>\n",
       "      <th>smoker</th>\n",
       "      <th>region</th>\n",
       "    </tr>\n",
       "  </thead>\n",
       "  <tbody>\n",
       "    <tr>\n",
       "      <th>0</th>\n",
       "      <td>40</td>\n",
       "      <td>1</td>\n",
       "      <td>40.3</td>\n",
       "      <td>4</td>\n",
       "      <td>1</td>\n",
       "      <td>2</td>\n",
       "    </tr>\n",
       "  </tbody>\n",
       "</table>\n",
       "</div>"
      ],
      "text/plain": [
       "   age  sex   bmi  children  smoker  region\n",
       "0   40    1  40.3         4       1       2"
      ]
     },
     "execution_count": 26,
     "metadata": {},
     "output_type": "execute_result"
    }
   ],
   "source": [
    "df = pd.DataFrame(data,index=[0])\n",
    "df"
   ]
  },
  {
   "cell_type": "code",
   "execution_count": 27,
   "metadata": {
    "execution": {
     "iopub.execute_input": "2021-10-31T15:15:16.716523Z",
     "iopub.status.busy": "2021-10-31T15:15:16.715922Z",
     "iopub.status.idle": "2021-10-31T15:15:16.724052Z",
     "shell.execute_reply": "2021-10-31T15:15:16.723257Z",
     "shell.execute_reply.started": "2021-10-31T15:15:16.716483Z"
    }
   },
   "outputs": [
    {
     "name": "stdout",
     "output_type": "stream",
     "text": [
      "Medical Insurance cost for New Customer is :  43839.34586293142\n"
     ]
    }
   ],
   "source": [
    "new_pred = gr.predict(df)\n",
    "print(\"Medical Insurance cost for New Customer is : \",new_pred[0])"
   ]
  },
  {
   "cell_type": "markdown",
   "metadata": {},
   "source": [
    "### From above we found that gredianBoostingRegressor is the best model for this dataset. Before production, it is good practice to train our model on the entire dataset."
   ]
  },
  {
   "cell_type": "code",
   "execution_count": 28,
   "metadata": {
    "execution": {
     "iopub.execute_input": "2021-10-31T15:15:16.725498Z",
     "iopub.status.busy": "2021-10-31T15:15:16.725243Z",
     "iopub.status.idle": "2021-10-31T15:15:16.863376Z",
     "shell.execute_reply": "2021-10-31T15:15:16.862511Z",
     "shell.execute_reply.started": "2021-10-31T15:15:16.725466Z"
    }
   },
   "outputs": [
    {
     "data": {
      "text/plain": [
       "GradientBoostingRegressor()"
      ]
     },
     "execution_count": 28,
     "metadata": {},
     "output_type": "execute_result"
    }
   ],
   "source": [
    "gr = GradientBoostingRegressor()\n",
    "gr.fit(X,y)"
   ]
  },
  {
   "cell_type": "markdown",
   "metadata": {},
   "source": [
    "# 16. Save Model Using Joblib"
   ]
  },
  {
   "cell_type": "code",
   "execution_count": 29,
   "metadata": {
    "execution": {
     "iopub.execute_input": "2021-10-31T15:16:11.279246Z",
     "iopub.status.busy": "2021-10-31T15:16:11.278724Z",
     "iopub.status.idle": "2021-10-31T15:16:11.287604Z",
     "shell.execute_reply": "2021-10-31T15:16:11.28668Z",
     "shell.execute_reply.started": "2021-10-31T15:16:11.279209Z"
    }
   },
   "outputs": [],
   "source": [
    "import joblib"
   ]
  },
  {
   "cell_type": "code",
   "execution_count": 30,
   "metadata": {},
   "outputs": [
    {
     "data": {
      "text/plain": [
       "['model1_joblib_gr']"
      ]
     },
     "execution_count": 30,
     "metadata": {},
     "output_type": "execute_result"
    }
   ],
   "source": [
    "joblib.dump(gr, 'model1_joblib_gr')"
   ]
  },
  {
   "cell_type": "code",
   "execution_count": 31,
   "metadata": {},
   "outputs": [],
   "source": [
    "model = joblib.load('model1_joblib_gr')"
   ]
  },
  {
   "cell_type": "code",
   "execution_count": 32,
   "metadata": {},
   "outputs": [
    {
     "data": {
      "text/plain": [
       "array([42148.361888])"
      ]
     },
     "execution_count": 32,
     "metadata": {},
     "output_type": "execute_result"
    }
   ],
   "source": [
    "model.predict(df)"
   ]
  },
  {
   "cell_type": "code",
   "execution_count": null,
   "metadata": {},
   "outputs": [],
   "source": []
  }
 ],
 "metadata": {
  "kernelspec": {
   "display_name": "Python 3 (ipykernel)",
   "language": "python",
   "name": "python3"
  },
  "language_info": {
   "codemirror_mode": {
    "name": "ipython",
    "version": 3
   },
   "file_extension": ".py",
   "mimetype": "text/x-python",
   "name": "python",
   "nbconvert_exporter": "python",
   "pygments_lexer": "ipython3",
   "version": "3.10.1"
  }
 },
 "nbformat": 4,
 "nbformat_minor": 4
}
